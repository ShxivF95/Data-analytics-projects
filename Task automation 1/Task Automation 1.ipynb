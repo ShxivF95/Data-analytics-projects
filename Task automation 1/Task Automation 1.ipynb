{
 "cells": [
  {
   "cell_type": "code",
   "execution_count": 49,
   "id": "e6b68983",
   "metadata": {},
   "outputs": [],
   "source": [
    "import os\n",
    "import pandas as pd"
   ]
  },
  {
   "cell_type": "code",
   "execution_count": 50,
   "id": "c8c341d2",
   "metadata": {},
   "outputs": [
    {
     "data": {
      "text/html": [
       "<div>\n",
       "<style scoped>\n",
       "    .dataframe tbody tr th:only-of-type {\n",
       "        vertical-align: middle;\n",
       "    }\n",
       "\n",
       "    .dataframe tbody tr th {\n",
       "        vertical-align: top;\n",
       "    }\n",
       "\n",
       "    .dataframe thead th {\n",
       "        text-align: right;\n",
       "    }\n",
       "</style>\n",
       "<table border=\"1\" class=\"dataframe\">\n",
       "  <thead>\n",
       "    <tr style=\"text-align: right;\">\n",
       "      <th></th>\n",
       "      <th>Site</th>\n",
       "      <th>Doc Id</th>\n",
       "      <th>Doctor Name</th>\n",
       "      <th>File Name</th>\n",
       "    </tr>\n",
       "  </thead>\n",
       "  <tbody>\n",
       "    <tr>\n",
       "      <th>0</th>\n",
       "      <td>ASN</td>\n",
       "      <td>DOC-23092</td>\n",
       "      <td>PARTHAJIT DAS</td>\n",
       "      <td>ASN_DOC-23092_PARTHAJIT DAS</td>\n",
       "    </tr>\n",
       "    <tr>\n",
       "      <th>1</th>\n",
       "      <td>ASN</td>\n",
       "      <td>DOC-65271</td>\n",
       "      <td>JOY SANKAR SAHA</td>\n",
       "      <td>ASN_DOC-65271_JOY SANKAR SAHA</td>\n",
       "    </tr>\n",
       "    <tr>\n",
       "      <th>2</th>\n",
       "      <td>ASN</td>\n",
       "      <td>DOC-76466</td>\n",
       "      <td>AVIJEET J BASU</td>\n",
       "      <td>ASN_DOC-76466_AVIJEET J BASU</td>\n",
       "    </tr>\n",
       "    <tr>\n",
       "      <th>3</th>\n",
       "      <td>ASN</td>\n",
       "      <td>DOC-64641</td>\n",
       "      <td>SUBHAS BHAGAT</td>\n",
       "      <td>ASN_DOC-64641_SUBHAS BHAGAT</td>\n",
       "    </tr>\n",
       "    <tr>\n",
       "      <th>4</th>\n",
       "      <td>ASN</td>\n",
       "      <td>DOC-22682</td>\n",
       "      <td>AMIT DUTTA</td>\n",
       "      <td>ASN_DOC-22682_AMIT DUTTA</td>\n",
       "    </tr>\n",
       "  </tbody>\n",
       "</table>\n",
       "</div>"
      ],
      "text/plain": [
       "  Site     Doc Id      Doctor Name                      File Name\n",
       "0  ASN  DOC-23092    PARTHAJIT DAS    ASN_DOC-23092_PARTHAJIT DAS\n",
       "1  ASN  DOC-65271  JOY SANKAR SAHA  ASN_DOC-65271_JOY SANKAR SAHA\n",
       "2  ASN  DOC-76466   AVIJEET J BASU   ASN_DOC-76466_AVIJEET J BASU\n",
       "3  ASN  DOC-64641    SUBHAS BHAGAT    ASN_DOC-64641_SUBHAS BHAGAT\n",
       "4  ASN  DOC-22682       AMIT DUTTA       ASN_DOC-22682_AMIT DUTTA"
      ]
     },
     "execution_count": 50,
     "metadata": {},
     "output_type": "execute_result"
    }
   ],
   "source": [
    "df = pd.read_excel(r'C:\\Users\\Shiv n\\OneDrive\\Desktop\\Site_data.xlsx')\n",
    "df.head()"
   ]
  },
  {
   "cell_type": "code",
   "execution_count": 51,
   "id": "67367812",
   "metadata": {},
   "outputs": [],
   "source": [
    "b_dir = r'C:\\Automation\\\\'"
   ]
  },
  {
   "cell_type": "code",
   "execution_count": 53,
   "id": "2d96c1d6",
   "metadata": {},
   "outputs": [],
   "source": [
    "def folder_creation(data, base_dir):\n",
    "    for index, row in data.iterrows():\n",
    "        site_folder = os.path.join(base_dir, row['Site'])      # Create a folder for the \"Site\"\n",
    "        os.makedirs(site_folder, exist_ok= True)\n",
    "        \n",
    "        file_folder = os.path.join(site_folder, row['File Name'])     # Create a folder inside the \"Site\" folder\n",
    "        os.makedirs(file_folder, exist_ok= True)\n",
    "        \n",
    "    print(f\"Folder created successfully in {base_dir}\")"
   ]
  },
  {
   "cell_type": "code",
   "execution_count": 54,
   "id": "b80eae9f",
   "metadata": {},
   "outputs": [
    {
     "name": "stdout",
     "output_type": "stream",
     "text": [
      "Folder created successfully in C:\\Automation\\\\\n"
     ]
    }
   ],
   "source": [
    "folder_creation(df, b_dir)"
   ]
  },
  {
   "cell_type": "code",
   "execution_count": null,
   "id": "c6935f37",
   "metadata": {},
   "outputs": [],
   "source": []
  }
 ],
 "metadata": {
  "kernelspec": {
   "display_name": "Python 3 (ipykernel)",
   "language": "python",
   "name": "python3"
  },
  "language_info": {
   "codemirror_mode": {
    "name": "ipython",
    "version": 3
   },
   "file_extension": ".py",
   "mimetype": "text/x-python",
   "name": "python",
   "nbconvert_exporter": "python",
   "pygments_lexer": "ipython3",
   "version": "3.11.5"
  }
 },
 "nbformat": 4,
 "nbformat_minor": 5
}
