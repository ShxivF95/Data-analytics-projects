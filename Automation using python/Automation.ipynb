{
 "cells": [
  {
   "cell_type": "code",
   "execution_count": 4,
   "id": "a1ce113e",
   "metadata": {},
   "outputs": [],
   "source": [
    "from sqlalchemy import create_engine\n",
    "import pandas as pd\n",
    "import openpyxl"
   ]
  },
  {
   "cell_type": "code",
   "execution_count": 22,
   "id": "26aaf008",
   "metadata": {},
   "outputs": [
    {
     "data": {
      "text/html": [
       "<div>\n",
       "<style scoped>\n",
       "    .dataframe tbody tr th:only-of-type {\n",
       "        vertical-align: middle;\n",
       "    }\n",
       "\n",
       "    .dataframe tbody tr th {\n",
       "        vertical-align: top;\n",
       "    }\n",
       "\n",
       "    .dataframe thead th {\n",
       "        text-align: right;\n",
       "    }\n",
       "</style>\n",
       "<table border=\"1\" class=\"dataframe\">\n",
       "  <thead>\n",
       "    <tr style=\"text-align: right;\">\n",
       "      <th></th>\n",
       "      <th>INVOICEDATE</th>\n",
       "      <th>CONTACTPERSONID</th>\n",
       "      <th>FULL_NAME</th>\n",
       "      <th>ACX_MOBILE</th>\n",
       "      <th>ACX_PHONE</th>\n",
       "      <th>INVENTSITEID</th>\n",
       "    </tr>\n",
       "  </thead>\n",
       "  <tbody>\n",
       "    <tr>\n",
       "      <th>0</th>\n",
       "      <td>2024-10-01</td>\n",
       "      <td>P/0026720</td>\n",
       "      <td>JHARNA RANI DUTTA</td>\n",
       "      <td>9433071350</td>\n",
       "      <td>None</td>\n",
       "      <td>SNT</td>\n",
       "    </tr>\n",
       "    <tr>\n",
       "      <th>1</th>\n",
       "      <td>2024-10-01</td>\n",
       "      <td>P/0230467</td>\n",
       "      <td>MEENA DEVI</td>\n",
       "      <td>8013383185</td>\n",
       "      <td>None</td>\n",
       "      <td>SL2</td>\n",
       "    </tr>\n",
       "    <tr>\n",
       "      <th>2</th>\n",
       "      <td>2024-10-01</td>\n",
       "      <td>P/0324302</td>\n",
       "      <td>TAPAS KUMAR NATH</td>\n",
       "      <td>9483519598</td>\n",
       "      <td>None</td>\n",
       "      <td>GAR</td>\n",
       "    </tr>\n",
       "    <tr>\n",
       "      <th>3</th>\n",
       "      <td>2024-10-01</td>\n",
       "      <td>P/0685772</td>\n",
       "      <td>SUMIT GHOSH DASTIDAR</td>\n",
       "      <td>9433465283</td>\n",
       "      <td>9477562915</td>\n",
       "      <td>SOD</td>\n",
       "    </tr>\n",
       "    <tr>\n",
       "      <th>4</th>\n",
       "      <td>2024-10-01</td>\n",
       "      <td>P/1591824</td>\n",
       "      <td>NILANJAN SAHA</td>\n",
       "      <td>9433245868</td>\n",
       "      <td>None</td>\n",
       "      <td>GAR</td>\n",
       "    </tr>\n",
       "    <tr>\n",
       "      <th>5</th>\n",
       "      <td>2024-10-01</td>\n",
       "      <td>P/2663013</td>\n",
       "      <td>AMIRUL ISLAM CHOWDHURY</td>\n",
       "      <td>9836194807</td>\n",
       "      <td>None</td>\n",
       "      <td>SNT</td>\n",
       "    </tr>\n",
       "    <tr>\n",
       "      <th>6</th>\n",
       "      <td>2024-10-01</td>\n",
       "      <td>P/3001330</td>\n",
       "      <td>BASANTA KUMAR SHIT</td>\n",
       "      <td>9874385310</td>\n",
       "      <td>6290282919</td>\n",
       "      <td>GAR</td>\n",
       "    </tr>\n",
       "    <tr>\n",
       "      <th>7</th>\n",
       "      <td>2024-10-01</td>\n",
       "      <td>P/3651502</td>\n",
       "      <td>ARUP MANNA</td>\n",
       "      <td>9830812820</td>\n",
       "      <td>None</td>\n",
       "      <td>SNT</td>\n",
       "    </tr>\n",
       "    <tr>\n",
       "      <th>8</th>\n",
       "      <td>2024-10-01</td>\n",
       "      <td>P/4559713</td>\n",
       "      <td>JHARNA BISWAS</td>\n",
       "      <td>9681833300</td>\n",
       "      <td>9681833300</td>\n",
       "      <td>SNT</td>\n",
       "    </tr>\n",
       "    <tr>\n",
       "      <th>9</th>\n",
       "      <td>2024-10-01</td>\n",
       "      <td>P/5492659</td>\n",
       "      <td>SIBANI DAS</td>\n",
       "      <td>9038715745</td>\n",
       "      <td>9038715745</td>\n",
       "      <td>SOD</td>\n",
       "    </tr>\n",
       "  </tbody>\n",
       "</table>\n",
       "</div>"
      ],
      "text/plain": [
       "  INVOICEDATE CONTACTPERSONID                FULL_NAME  ACX_MOBILE  \\\n",
       "0  2024-10-01       P/0026720        JHARNA RANI DUTTA  9433071350   \n",
       "1  2024-10-01       P/0230467               MEENA DEVI  8013383185   \n",
       "2  2024-10-01       P/0324302         TAPAS KUMAR NATH  9483519598   \n",
       "3  2024-10-01       P/0685772     SUMIT GHOSH DASTIDAR  9433465283   \n",
       "4  2024-10-01       P/1591824            NILANJAN SAHA  9433245868   \n",
       "5  2024-10-01       P/2663013  AMIRUL ISLAM CHOWDHURY   9836194807   \n",
       "6  2024-10-01       P/3001330       BASANTA KUMAR SHIT  9874385310   \n",
       "7  2024-10-01       P/3651502               ARUP MANNA  9830812820   \n",
       "8  2024-10-01       P/4559713            JHARNA BISWAS  9681833300   \n",
       "9  2024-10-01       P/5492659               SIBANI DAS  9038715745   \n",
       "\n",
       "    ACX_PHONE INVENTSITEID  \n",
       "0        None          SNT  \n",
       "1        None          SL2  \n",
       "2        None          GAR  \n",
       "3  9477562915          SOD  \n",
       "4        None          GAR  \n",
       "5        None          SNT  \n",
       "6  6290282919          GAR  \n",
       "7        None          SNT  \n",
       "8  9681833300          SNT  \n",
       "9  9038715745          SOD  "
      ]
     },
     "execution_count": 22,
     "metadata": {},
     "output_type": "execute_result"
    }
   ],
   "source": [
    "engine = create_engine(r'mssql+pyodbc://LAPTOP-NKOE7QN2/SDPL?driver=ODBC+Driver+17+for+SQL+Server&Trusted_Connection=yes')\n",
    "\n",
    "df = pd.read_sql(\"\"\"select cast(INVOICEDATE as date) INVOICEDATE, CONTACTPERSONID, FULL_NAME, ACX_MOBILE, ACX_PHONE, INVENTSITEID \n",
    "                    from vw_bi_itemsales\n",
    "                    where cast(INVOICEDATE as date) between '2024-07-01' and '2024-12-31'\n",
    "                    and INVENTSITEID in ('KLP', 'SL2', 'GAR', 'SNT', 'SOD', 'BIR', 'CHP', 'SLK', 'MRD', 'BEH',\n",
    "                                         'ASN', 'BAN', 'BKP', 'BAS', 'BHT', 'COB', 'DNK', 'DIH', 'DGR', 'GHY',\n",
    "                                         'HWH', 'JAL', 'KNK', 'LAK', 'MDG', 'NBP', 'SG2', 'RJH', 'SRE','TAM')\"\"\", engine)\n",
    "\n",
    "df.head(10)"
   ]
  },
  {
   "cell_type": "markdown",
   "id": "1a86a122",
   "metadata": {},
   "source": [
    "#### To create separate Sheets for each INVENTSITEID"
   ]
  },
  {
   "cell_type": "code",
   "execution_count": 24,
   "id": "b511b0d2",
   "metadata": {},
   "outputs": [],
   "source": [
    "# Python allows the use of forward slashes (/) in file paths:\n",
    "\n",
    "output = 'C:/Users/Shiv n/OneDrive/Desktop/Calling_data.xlsx'   \n",
    "sheet_col = 'INVENTSITEID'"
   ]
  },
  {
   "cell_type": "code",
   "execution_count": 25,
   "id": "920b08e8",
   "metadata": {},
   "outputs": [
    {
     "name": "stdout",
     "output_type": "stream",
     "text": [
      "Data has been split into seperate sheets in C:/Users/Shiv n/OneDrive/Desktop/Calling_data.xlsx\n"
     ]
    }
   ],
   "source": [
    "with pd.ExcelWriter(output, engine= 'openpyxl') as writer:\n",
    "    for site, group in df.groupby(sheet_col):\n",
    "        uniq_group = group.drop_duplicates()\n",
    "        uniq_group = uniq_group.drop_duplicates(subset= ['ACX_MOBILE'])\n",
    "        uniq_group = uniq_group.sort_values(by= 'INVOICEDATE', ascending= True)\n",
    "        \n",
    "        uniq_group.to_excel(writer, sheet_name= str(site), index= False)\n",
    "        \n",
    "print(f\"Data has been split into seperate sheets in {output}\")        "
   ]
  },
  {
   "cell_type": "markdown",
   "id": "c474d0b0",
   "metadata": {},
   "source": [
    "#### To create separate Excel workbooks for each INVENTSITEID"
   ]
  },
  {
   "cell_type": "code",
   "execution_count": 30,
   "id": "980de54a",
   "metadata": {},
   "outputs": [],
   "source": [
    "output_path = 'C:/Users/Shiv n/OneDrive/Desktop/Site wise patient data/'"
   ]
  },
  {
   "cell_type": "code",
   "execution_count": 31,
   "id": "26b7f503",
   "metadata": {},
   "outputs": [],
   "source": [
    "import os\n",
    "\n",
    "os.makedirs(output_path, exist_ok= True)"
   ]
  },
  {
   "cell_type": "code",
   "execution_count": 33,
   "id": "3d938dd6",
   "metadata": {},
   "outputs": [
    {
     "name": "stdout",
     "output_type": "stream",
     "text": [
      "Workbook created for TAM at C:/Users/Shiv n/OneDrive/Desktop/Site wise patient data/\n"
     ]
    }
   ],
   "source": [
    "for site, group in df.groupby(sheet_col):\n",
    "    uniq_group = group.drop_duplicates()\n",
    "    uniq_group = uniq_group.drop_duplicates(subset= ['ACX_MOBILE'])\n",
    "    uniq_group = uniq_group.sort_values(by= 'INVOICEDATE', ascending= True)\n",
    "        \n",
    "    file_name = f\"{site}.xlsx\"\n",
    "    file_path = os.path.join(output_path, file_name)\n",
    "    \n",
    "    uniq_group.to_excel(file_path, engine= 'openpyxl', index= False)\n",
    "    \n",
    "print(f\"Workbook created for {site} at {output_path}\")     "
   ]
  },
  {
   "cell_type": "code",
   "execution_count": null,
   "id": "462700d3",
   "metadata": {},
   "outputs": [],
   "source": []
  }
 ],
 "metadata": {
  "kernelspec": {
   "display_name": "Python 3 (ipykernel)",
   "language": "python",
   "name": "python3"
  },
  "language_info": {
   "codemirror_mode": {
    "name": "ipython",
    "version": 3
   },
   "file_extension": ".py",
   "mimetype": "text/x-python",
   "name": "python",
   "nbconvert_exporter": "python",
   "pygments_lexer": "ipython3",
   "version": "3.11.5"
  }
 },
 "nbformat": 4,
 "nbformat_minor": 5
}
